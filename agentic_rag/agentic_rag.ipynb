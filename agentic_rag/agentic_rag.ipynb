{
 "cells": [
  {
   "metadata": {},
   "cell_type": "markdown",
   "source": [
    "# Agentic RAG\n",
    "\n",
    "In this tutorial we will build a retrieval agent. Retrieval agents are useful when you want an LLM to make a decision about whether to retrieve context from a vectorstore or respond to the user directly.\n",
    "\n",
    "By the end of the tutorial we will have done the following:\n",
    "\n",
    "Fetch and preprocess documents that will be used for retrieval.\n",
    "Index those documents for semantic search and create a retriever tool for the agent.\n",
    "Build an agentic RAG system that can decide when to use the retriever tool.\n",
    "Screenshot 2024-02-14 at 3.43.58 PM.png\n",
    "\n",
    "## Setup\n",
    "Let's download the required packages and set our API keys:"
   ],
   "id": "97625380430432dd"
  },
  {
   "metadata": {},
   "cell_type": "code",
   "source": [
    "%%capture --no-stderr\n",
    "# %pip install -U --quiet langgraph \"langchain[openai]\" langchain-community langchain-text-splitters"
   ],
   "id": "190d51609dfabc4b",
   "outputs": [],
   "execution_count": null
  },
  {
   "metadata": {},
   "cell_type": "markdown",
   "source": [
    "### 1. Preprocess documents\n",
    "\n",
    "1.Fetch documents to use in our RAG system.\n",
    "We will use three of the most recent pages from Lilian Weng's excellent blog. We'll start by fetching the content of the pages using WebBaseLoader utility:"
   ],
   "id": "e7f611aab4165bcc"
  },
  {
   "cell_type": "code",
   "id": "initial_id",
   "metadata": {
    "collapsed": true
   },
   "source": [
    "from langchain_community.document_loaders import WebBaseLoader\n",
    "urls = [\n",
    "    \"https://lilianweng.github.io/posts/2024-11-28-reward-hacking/\",\n",
    "    \"https://lilianweng.github.io/posts/2024-07-07-hallucination/\",\n",
    "    \"https://lilianweng.github.io/posts/2024-04-12-diffusion-video/\",\n",
    "]\n",
    "\n",
    "docs = [WebBaseLoader(url).load() for url in urls]"
   ],
   "outputs": [],
   "execution_count": null
  },
  {
   "metadata": {},
   "cell_type": "code",
   "source": "docs[0][0].page_content",
   "id": "e863b1ccf58a68ac",
   "outputs": [],
   "execution_count": null
  },
  {
   "metadata": {},
   "cell_type": "code",
   "source": "len(docs)",
   "id": "6b9e351f9e7f8e3a",
   "outputs": [],
   "execution_count": null
  },
  {
   "metadata": {},
   "cell_type": "markdown",
   "source": "### 2. Split the fetched documents into smaller chunks for indexing into our vectorstore:\n",
   "id": "80601dde86dd4405"
  },
  {
   "metadata": {},
   "cell_type": "code",
   "source": [
    "from langchain_text_splitters import RecursiveCharacterTextSplitter\n",
    "\n",
    "docs_list = [item for sublist in docs for item in sublist]\n",
    "docs_list"
   ],
   "id": "90072b856dfef114",
   "outputs": [],
   "execution_count": null
  },
  {
   "metadata": {},
   "cell_type": "code",
   "source": [
    "text_splitter = RecursiveCharacterTextSplitter.from_tiktoken_encoder(\n",
    "    chunk_size=500, chunk_overlap=50\n",
    ")\n",
    "doc_splits = text_splitter.split_documents(docs_list)"
   ],
   "id": "775702ede7d54d9d",
   "outputs": [],
   "execution_count": null
  },
  {
   "metadata": {},
   "cell_type": "code",
   "source": "doc_splits[0].page_content.strip()",
   "id": "baef8ed63c0c4f78",
   "outputs": [],
   "execution_count": null
  },
  {
   "metadata": {},
   "cell_type": "markdown",
   "source": [
    "### 3 Use an in-memory vectorstore to index our documents:\n",
    "\n"
   ],
   "id": "686533db87ff6f72"
  },
  {
   "metadata": {},
   "cell_type": "code",
   "source": [
    "from langchain_core.vectorstores import InMemoryVectorStore\n",
    "from langchain_openai import OpenAIEmbeddings\n",
    "\n",
    "vectorstore = InMemoryVectorStore.from_documents(\n",
    "    documents=doc_splits, embedding=OpenAIEmbeddings()\n",
    ")\n",
    "retriever = vectorstore.as_retriever()\n",
    "retriever"
   ],
   "id": "69ba36ef2380ac4f",
   "outputs": [],
   "execution_count": null
  },
  {
   "metadata": {},
   "cell_type": "markdown",
   "source": "### 4. Create a retriever tool using LangChain's prebuilt  `create_retriever_tool`:",
   "id": "3a1806657a8024c6"
  },
  {
   "metadata": {},
   "cell_type": "code",
   "source": [
    "from langchain.tools.retriever import create_retriever_tool\n",
    "\n",
    "retriever_tool = create_retriever_tool(\n",
    "    retriever,\n",
    "    \"retrieve_blog_posts\",\n",
    "    \"Search and return information about Lilian Weng blog posts.\",\n",
    ")"
   ],
   "id": "a46ba2e493328032",
   "outputs": [],
   "execution_count": null
  },
  {
   "metadata": {},
   "cell_type": "code",
   "source": "retriever_tool.invoke({\"query\": \"types of reward hacking\"})",
   "id": "48b00475542c2d28",
   "outputs": [],
   "execution_count": null
  },
  {
   "metadata": {},
   "cell_type": "markdown",
   "source": "# Generate Query",
   "id": "eaaf1a1b26b35ad3"
  },
  {
   "metadata": {},
   "cell_type": "markdown",
   "source": [
    "Now we will start building components ([nodes](https://langchain-ai.github.io/langgraph/concepts/low_level/#nodes) and [edges](https://langchain-ai.github.io/langgraph/concepts/low_level/#edges)) for our agentic RAG graph.\n",
    "\n",
    "Note that the components will operate on the [MessagesState](https://langchain-ai.github.io/langgraph/concepts/low_level/#messagesstate) — graph state that contains a messages key with a list of [chat messages](https://python.langchain.com/docs/concepts/messages/?_gl=1*1o9160y*_gcl_au*ODEzMzAxMDkyLjE3NDg5MjA4ODQ.*_ga*MTkyMjk2NzY0Ny4xNzUyMDM0ODEx*_ga_47WX3HKKY2*czE3NTM5NDU0NjQkbzQ4JGcxJHQxNzUzOTQ1NDkyJGozMiRsMCRoMA..).\n",
    "\n",
    "Build a `generate_query_or_respond` node. It will call an LLM to generate a response based on the current graph state (list of messages). Given the input messages, it will decide to retrieve using the retriever tool, or respond directly to the user. Note that we're giving the chat model access to the `retriever_tool` we created earlier via `.bind_tools`:"
   ],
   "id": "ebb13cd9c02fa9e0"
  },
  {
   "metadata": {},
   "cell_type": "code",
   "source": [
    "from langgraph.graph import MessagesState\n",
    "from langchain.chat_models import init_chat_model\n",
    "\n",
    "response_model = init_chat_model(\"openai:gpt-4.1\", temperature=0)\n",
    "\n",
    "def generate_query_or_respond(state: MessagesState):\n",
    "    \"\"\"Call the model to generate a response based on the current state. Given\n",
    "    the question, it will decide to retrieve using the retriever tool, or simply respond to the user.\n",
    "    \"\"\"\n",
    "    resp = response_model.bind_tools([retriever_tool]).invoke(state[\"messages\"])\n",
    "\n",
    "    return {\"messages\": [resp]}"
   ],
   "id": "c8e5f663c4fff3d8",
   "outputs": [],
   "execution_count": null
  },
  {
   "metadata": {},
   "cell_type": "markdown",
   "source": "Try it on a random input:",
   "id": "e28398e7a73cc6f5"
  },
  {
   "metadata": {},
   "cell_type": "code",
   "source": [
    "input = {\"messages\": [{\"role\": \"user\", \"content\": \"hello!\"}]}\n",
    "generate_query_or_respond(input)[\"messages\"][-1].pretty_print()"
   ],
   "id": "aef1490da725689b",
   "outputs": [],
   "execution_count": null
  },
  {
   "metadata": {},
   "cell_type": "markdown",
   "source": "Ask a question that requires semantic search:",
   "id": "fa8cfa4c39f61e30"
  },
  {
   "metadata": {},
   "cell_type": "code",
   "source": [
    "input = {\n",
    "    \"messages\": [\n",
    "        {\n",
    "            \"role\": \"user\",\n",
    "            \"content\": \"What does Lilian Weng say about types of reward hacking?\",\n",
    "        }\n",
    "    ]\n",
    "}\n",
    "response = generate_query_or_respond(input)[\"messages\"][-1]\n",
    "response.pretty_print()"
   ],
   "id": "2232ca37d9adf9e0",
   "outputs": [],
   "execution_count": null
  },
  {
   "metadata": {},
   "cell_type": "markdown",
   "source": "## 3.1 ChatGPT 5 Generated Code for RAG",
   "id": "a324976b8fdf686f"
  },
  {
   "metadata": {},
   "cell_type": "code",
   "source": [
    "from typing import TypedDict, List, Literal\n",
    "from langgraph.graph import StateGraph, END\n",
    "from langchain_core.documents import Document\n",
    "from langchain_openai import ChatOpenAI, OpenAIEmbeddings\n",
    "from langchain_community.vectorstores import FAISS\n",
    "from langchain.text_splitter import RecursiveCharacterTextSplitter\n",
    "from langchain_core.prompts import ChatPromptTemplate\n",
    "\n",
    "# ---------- Setup (one-time) ----------\n",
    "# 1) Build the vector store\n",
    "docs = [  # however you load them\n",
    "    Document(page_content=\"Llamas are cool. They live in the Andes.\", metadata={\"id\": \"llama_1\"}),\n",
    "    # ...\n",
    "]\n",
    "splitter = RecursiveCharacterTextSplitter(chunk_size=800, chunk_overlap=120)\n",
    "chunks = splitter.split_documents(docs)\n",
    "\n",
    "emb = OpenAIEmbeddings(model=\"text-embedding-3-small\")\n",
    "vs = FAISS.from_documents(chunks, emb)\n",
    "retriever = vs.as_retriever(search_kwargs={\"k\": 6})\n",
    "\n",
    "# 2) LLM and prompt\n",
    "llm = ChatOpenAI(model=\"gpt-4o-mini\")  # pick what you like\n",
    "PROMPT = ChatPromptTemplate.from_messages([\n",
    "    (\"system\", \"You are a precise, source-citing assistant. Use CONTEXT if helpful.\"),\n",
    "    (\"system\", \"CONTEXT:\\n{context}\"),\n",
    "    (\"human\", \"QUESTION:\\n{question}\")\n",
    "])\n",
    "PROMPT"
   ],
   "id": "caf03b73657e9333",
   "outputs": [],
   "execution_count": null
  },
  {
   "metadata": {},
   "cell_type": "code",
   "source": [
    "# ---------- Graph State ----------\n",
    "class RAGState(TypedDict):\n",
    "    question: str\n",
    "    retrieved: List[Document]\n",
    "    context: str\n",
    "    answer: str\n",
    "\n",
    "# ---------- Nodes ----------\n",
    "def retrieve_node(state: RAGState) -> RAGState:\n",
    "    docs = retriever.invoke(state[\"question\"])\n",
    "    return {**state, \"retrieved\": docs}\n",
    "\n",
    "def compose_context_node(state: RAGState) -> RAGState:\n",
    "    # Simple render: title + excerpt + source id. You can add line numbers/citations here.\n",
    "    lines = []\n",
    "    for d in state.get(\"retrieved\", []):\n",
    "        src = d.metadata.get(\"id\", \"unknown\")\n",
    "        lines.append(f\"[{src}] {d.page_content}\")\n",
    "    context = \"\\n\\n\".join(lines)\n",
    "    return {**state, \"context\": context}\n",
    "\n",
    "def answer_node(state: RAGState) -> RAGState:\n",
    "    msg = PROMPT.format_messages(question=state[\"question\"], context=state.get(\"context\", \"\"))\n",
    "    resp = llm.invoke(msg)\n",
    "    return {**state, \"answer\": resp.content}\n",
    "\n",
    "# ---------- Wiring the graph ----------\n",
    "g = StateGraph(RAGState)\n",
    "g.add_node(\"retrieve\", retrieve_node)\n",
    "g.add_node(\"compose\", compose_context_node)\n",
    "g.add_node(\"answer\", answer_node)\n",
    "\n",
    "g.set_entry_point(\"retrieve\")\n",
    "g.add_edge(\"retrieve\", \"compose\")\n",
    "g.add_edge(\"compose\", \"answer\")\n",
    "g.add_edge(\"answer\", END)\n",
    "\n",
    "app = g.compile()\n",
    "\n",
    "# Run\n",
    "result = app.invoke({\"question\": \"Where do llamas live?\"})\n",
    "print(result[\"answer\"])"
   ],
   "id": "ef3b5d4d6163f224",
   "outputs": [],
   "execution_count": null
  },
  {
   "metadata": {},
   "cell_type": "markdown",
   "source": [
    "# 4. Grade documents\n",
    "\n",
    "Add a [conditional edge](https://langchain-ai.github.io/langgraph/concepts/low_level/#conditional-edges) — `grade_documents `— to determine whether the retrieved documents are relevant to the question. We will use a model with a structured output schema GradeDocuments for document grading. The `grade_documents` function will return the name of the node to go to based on the grading decision (`**generate_answer**` or `**rewrite_question**`):"
   ],
   "id": "47e819457cf0cd81"
  },
  {
   "metadata": {},
   "cell_type": "code",
   "source": [
    "from pydantic import BaseModel, Field\n",
    "from typing import Literal\n",
    "from langchain_core.prompts import ChatPromptTemplate\n",
    "\n",
    "\n",
    "\n",
    "GRADE_PROMPT = (\n",
    "    \"You are a grader assessing relevance of a retrieved document to a user question. \\n \"\n",
    "    \"Here is the retrieved document: \\n\\n {context} \\n\\n\"\n",
    "    \"Here is the user question: {question} \\n\"\n",
    "    \"If the document contains keyword(s) or semantic meaning related to the user question, grade it as relevant. \\n\"\n",
    "    \"Give a binary score 'yes' or 'no' score to indicate whether the document is relevant to the question.\"\n",
    ")\n",
    "\n",
    "\n",
    "class GradeDocuments(BaseModel):\n",
    "    \"\"\"Grade documents using a binary score for relevance check.\"\"\"\n",
    "\n",
    "    binary_score: str = Field(\n",
    "        description=\"Relevance score: 'yes' if relevant, or 'no' if not relevant\"\n",
    "    )\n",
    "\n",
    "\n",
    "grader_model = init_chat_model(\"openai:gpt-4.1\", temperature=0)\n",
    "\n",
    "\n",
    "def grade_documents(\n",
    "    state: MessagesState,\n",
    ") -> Literal[\"generate_answer\", \"rewrite_question\"]:\n",
    "    \"\"\"Determine whether the retrieved documents are relevant to the question.\"\"\"\n",
    "    question = state[\"messages\"][0].content\n",
    "    context = state[\"messages\"][-1].content\n",
    "\n",
    "    prompt = GRADE_PROMPT.format(question=question, context=context)\n",
    "    response = (\n",
    "        grader_model\n",
    "        .with_structured_output(GradeDocuments).invoke(\n",
    "            [{\"role\": \"user\", \"content\": prompt}]\n",
    "        )\n",
    "    )\n",
    "    score = response.binary_score\n",
    "\n",
    "    if score == \"yes\":\n",
    "        return \"generate_answer\"\n",
    "    else:\n",
    "        return \"rewrite_question\""
   ],
   "id": "1acb9c74ffe79d88",
   "outputs": [],
   "execution_count": null
  },
  {
   "metadata": {},
   "cell_type": "markdown",
   "source": "Run this with irrelevant documents in the tool response:\n",
   "id": "5fd67f40ca02be7d"
  },
  {
   "metadata": {},
   "cell_type": "code",
   "source": [
    "from langchain_core.messages import convert_to_messages\n",
    "\n",
    "input = {\n",
    "    \"messages\": convert_to_messages(\n",
    "        [\n",
    "            {\n",
    "                \"role\": \"user\",\n",
    "                \"content\": \"What are the types of reward hacking?\",\n",
    "            },\n",
    "            {\n",
    "                \"role\": \"assistant\",\n",
    "                \"content\": \"\",\n",
    "                \"tool_calls\": [\n",
    "                    {\n",
    "                        \"id\": \"1\",\n",
    "                        \"name\": \"retrieve_blog_posts\",\n",
    "                        \"args\": {\"query\": \"types of reward hacking\"},\n",
    "                    }\n",
    "                ],\n",
    "            },\n",
    "            {\"role\": \"tool\", \"content\": \"meow\", \"tool_call_id\": \"1\"},\n",
    "        ]\n",
    "    )\n",
    "}\n",
    "grade_documents(input)"
   ],
   "id": "36e14ee364a5baa4",
   "outputs": [],
   "execution_count": null
  },
  {
   "metadata": {},
   "cell_type": "markdown",
   "source": "Confirm that the relevant documents are classified as such:\n",
   "id": "f44a026de0678fcf"
  },
  {
   "metadata": {},
   "cell_type": "code",
   "source": [
    "input = {\n",
    "    \"messages\": convert_to_messages(\n",
    "        [\n",
    "            {\n",
    "                \"role\": \"user\",\n",
    "                \"content\": \"What does Lilian Weng say about types of reward hacking?\",\n",
    "            },\n",
    "            {\n",
    "                \"role\": \"assistant\",\n",
    "                \"content\": \"\",\n",
    "                \"tool_calls\": [\n",
    "                    {\n",
    "                        \"id\": \"1\",\n",
    "                        \"name\": \"retrieve_blog_posts\",\n",
    "                        \"args\": {\"query\": \"types of reward hacking\"},\n",
    "                    }\n",
    "                ],\n",
    "            },\n",
    "            {\n",
    "                \"role\": \"tool\",\n",
    "                \"content\": \"reward hacking can be categorized into two types: environment or goal misspecification, and reward tampering\",\n",
    "                \"tool_call_id\": \"1\",\n",
    "            },\n",
    "        ]\n",
    "    )\n",
    "}\n",
    "grade_documents(input)"
   ],
   "id": "ee9cab302af99c32",
   "outputs": [],
   "execution_count": null
  },
  {
   "metadata": {},
   "cell_type": "markdown",
   "source": [
    "# 5. Rewrite question\n",
    "\n",
    "Build the rewrite_question node. The retriever tool can return potentially irrelevant documents, which indicates a need to improve the original user question. To do so, we will call the rewrite_question node:"
   ],
   "id": "f7ec4aa91a3458ce"
  },
  {
   "metadata": {},
   "cell_type": "code",
   "source": [
    "REWRITE_PROMPT = (\n",
    "    \"Look at the input and try to reason about the underlying semantic intent / meaning.\\n\"\n",
    "    \"Here is the initial question:\"\n",
    "    \"\\n ------- \\n\"\n",
    "    \"{question}\"\n",
    "    \"\\n ------- \\n\"\n",
    "    \"Formulate an improved question:\"\n",
    ")\n",
    "\n",
    "\n",
    "def rewrite_question(state: MessagesState):\n",
    "    \"\"\"Rewrite the original user question.\"\"\"\n",
    "    messages = state[\"messages\"]\n",
    "    question = messages[0].content\n",
    "    prompt = REWRITE_PROMPT.format(question=question)\n",
    "    response = response_model.invoke([{\"role\": \"user\", \"content\": prompt}])\n",
    "    return {\"messages\": [{\"role\": \"user\", \"content\": response.content}]}"
   ],
   "id": "1f2e612f2a0c13fa",
   "outputs": [],
   "execution_count": null
  },
  {
   "metadata": {},
   "cell_type": "code",
   "source": [
    "input = {\n",
    "    \"messages\": convert_to_messages(\n",
    "        [\n",
    "            {\n",
    "                \"role\": \"user\",\n",
    "                \"content\": \"What does Lilian Weng say about types of reward hacking?\",\n",
    "            },\n",
    "            {\n",
    "                \"role\": \"assistant\",\n",
    "                \"content\": \"\",\n",
    "                \"tool_calls\": [\n",
    "                    {\n",
    "                        \"id\": \"1\",\n",
    "                        \"name\": \"retrieve_blog_posts\",\n",
    "                        \"args\": {\"query\": \"types of reward hacking\"},\n",
    "                    }\n",
    "                ],\n",
    "            },\n",
    "            {\"role\": \"tool\", \"content\": \"meow\", \"tool_call_id\": \"1\"},\n",
    "        ]\n",
    "    )\n",
    "}\n",
    "\n",
    "response = rewrite_question(input)\n",
    "print(response[\"messages\"][-1][\"content\"])"
   ],
   "id": "64b80d53f494b375",
   "outputs": [],
   "execution_count": null
  },
  {
   "metadata": {},
   "cell_type": "markdown",
   "source": [
    "# 6. Generate an answer\n",
    "\n",
    "Build `generate_answer `node: if we pass the grader checks, we can generate the final answer based on the original question and the retrieved context:"
   ],
   "id": "27c924117ce6b747"
  },
  {
   "metadata": {},
   "cell_type": "code",
   "source": [
    "GENERATE_PROMPT = (\n",
    "    \"You are an assistant for question-answering tasks. \"\n",
    "    \"Use the following pieces of retrieved context to answer the question. \"\n",
    "    \"If you don't know the answer, just say that you don't know. \"\n",
    "    \"Use three sentences maximum and keep the answer concise.\\n\"\n",
    "    \"Question: {question} \\n\"\n",
    "    \"Context: {context}\"\n",
    ")\n",
    "\n",
    "\n",
    "def generate_answer(state: MessagesState):\n",
    "    \"\"\"Generate an answer.\"\"\"\n",
    "    question = state[\"messages\"][0].content\n",
    "    context = state[\"messages\"][-1].content\n",
    "    prompt = GENERATE_PROMPT.format(question=question, context=context)\n",
    "    response = response_model.invoke([{\"role\": \"user\", \"content\": prompt}])\n",
    "    return {\"messages\": [response]}"
   ],
   "id": "edb0147d4ecc640c",
   "outputs": [],
   "execution_count": null
  },
  {
   "metadata": {},
   "cell_type": "code",
   "source": [
    "input = {\n",
    "    \"messages\": convert_to_messages(\n",
    "        [\n",
    "            {\n",
    "                \"role\": \"user\",\n",
    "                \"content\": \"What does Lilian Weng say about types of reward hacking?\",\n",
    "            },\n",
    "            {\n",
    "                \"role\": \"assistant\",\n",
    "                \"content\": \"\",\n",
    "                \"tool_calls\": [\n",
    "                    {\n",
    "                        \"id\": \"1\",\n",
    "                        \"name\": \"retrieve_blog_posts\",\n",
    "                        \"args\": {\"query\": \"types of reward hacking\"},\n",
    "                    }\n",
    "                ],\n",
    "            },\n",
    "            {\n",
    "                \"role\": \"tool\",\n",
    "                \"content\": \"reward hacking can be categorized into two types: environment or goal misspecification, and reward tampering\",\n",
    "                \"tool_call_id\": \"1\",\n",
    "            },\n",
    "        ]\n",
    "    )\n",
    "}\n",
    "\n",
    "response = generate_answer(input)\n",
    "response[\"messages\"][-1].pretty_print()"
   ],
   "id": "e075de9a9b4b1bdf",
   "outputs": [],
   "execution_count": null
  },
  {
   "metadata": {},
   "cell_type": "markdown",
   "source": [
    "# 7. Assemble the graph\n",
    "\n",
    "- Start with a `generate_query_or_respond`and determine if we need to cal `retriever_tool`\n",
    "- Route to next step using `tools_condition`:\n",
    "    - If `generate_query_or_respond` returned `tool_calls`, call `retriever_tool` to retrieve context\n",
    "    - Otherwise, respond directly to the user\n",
    "- Grade retrieved document content for relevance to the question (`grade_documents`) and route to next step:\n",
    "    - If not relevant, rewrite the question using `rewrite_question` and then call `generate_query_or_respond` again\n",
    "    - If relevant, proceed to `generate_answer` and generate final response using the ToolMessage with the retrieved document context\n",
    "API Reference: [StateGraph](https://langchain.readthedocs.io/en/latest/modules/agents/agent_types/state_graph.html#stategraph)StateGraph | START | END | ToolNode | tools_condition"
   ],
   "id": "33d0d5d6f4f8f50e"
  },
  {
   "metadata": {},
   "cell_type": "code",
   "source": [
    "from langgraph.graph import StateGraph, START, END\n",
    "from langgraph.prebuilt import ToolNode\n",
    "from langgraph.prebuilt import tools_condition\n",
    "\n",
    "workflow = StateGraph(MessagesState)\n",
    "\n",
    "# Define the nodes we will cycle between\n",
    "workflow.add_node(generate_query_or_respond)\n",
    "workflow.add_node(\"retrieve\", ToolNode([retriever_tool]))\n",
    "workflow.add_node(rewrite_question)\n",
    "workflow.add_node(generate_answer)\n",
    "\n",
    "workflow.add_edge(START, \"generate_query_or_respond\")\n",
    "\n",
    "# Decide whether to retrieve\n",
    "workflow.add_conditional_edges(\n",
    "    \"generate_query_or_respond\",\n",
    "    # Assess LLM decision (call `retriever_tool` tool or respond to the user)\n",
    "    tools_condition,\n",
    "    {\n",
    "        # Translate the condition outputs to nodes in our graph\n",
    "        \"tools\": \"retrieve\",\n",
    "        END: END,\n",
    "    },\n",
    ")\n",
    "\n",
    "# Edges taken after the `action` node is called.\n",
    "workflow.add_conditional_edges(\n",
    "    \"retrieve\",\n",
    "    # Assess agent decision\n",
    "    grade_documents,\n",
    ")\n",
    "workflow.add_edge(\"generate_answer\", END)\n",
    "workflow.add_edge(\"rewrite_question\", \"generate_query_or_respond\")\n",
    "\n",
    "# Compile\n",
    "graph = workflow.compile()"
   ],
   "id": "b7cf8877a6cdff30",
   "outputs": [],
   "execution_count": null
  },
  {
   "metadata": {},
   "cell_type": "code",
   "source": [
    "from IPython.display import Image, display\n",
    "\n",
    "display(Image(graph.get_graph().draw_mermaid_png()))"
   ],
   "id": "b1f0c75daabc7454",
   "outputs": [],
   "execution_count": null
  },
  {
   "metadata": {},
   "cell_type": "markdown",
   "source": "# 8. Run the agentic RAG",
   "id": "a5a43eaa22a84526"
  },
  {
   "metadata": {},
   "cell_type": "code",
   "source": [
    "for chunk in graph.stream(\n",
    "    {\n",
    "        \"messages\": [\n",
    "            {\n",
    "                \"role\": \"user\",\n",
    "                \"content\": \"What does Lilian Weng say about types of reward hacking?\",\n",
    "            }\n",
    "        ]\n",
    "    }\n",
    "):\n",
    "    for node, update in chunk.items():\n",
    "        print(\"Update from node\", node)\n",
    "        update[\"messages\"][-1].pretty_print()\n",
    "        print(\"\\n\\n\")"
   ],
   "id": "1c4ed8b741965363",
   "outputs": [],
   "execution_count": null
  },
  {
   "metadata": {},
   "cell_type": "code",
   "source": "",
   "id": "995512661eb0de12",
   "outputs": [],
   "execution_count": null
  }
 ],
 "metadata": {
  "kernelspec": {
   "display_name": "Python 3",
   "language": "python",
   "name": "python3"
  },
  "language_info": {
   "codemirror_mode": {
    "name": "ipython",
    "version": 2
   },
   "file_extension": ".py",
   "mimetype": "text/x-python",
   "name": "python",
   "nbconvert_exporter": "python",
   "pygments_lexer": "ipython2",
   "version": "2.7.6"
  }
 },
 "nbformat": 4,
 "nbformat_minor": 5
}
