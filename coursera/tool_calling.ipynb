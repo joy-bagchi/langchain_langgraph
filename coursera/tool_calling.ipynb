{
 "cells": [
  {
   "metadata": {},
   "cell_type": "markdown",
   "source": "## Call Tools to provide more accurate responses",
   "id": "259d1cd102b87e15"
  },
  {
   "metadata": {},
   "cell_type": "code",
   "source": [
    "from langchain.agents import Tool\n",
    "from langchain.agents import tool\n",
    "from langchain.chat_models import init_chat_model\n",
    "from langgraph.prebuilt import create_react_agent"
   ],
   "id": "9bf6a0a6bfd816d1",
   "outputs": [],
   "execution_count": null
  },
  {
   "cell_type": "code",
   "id": "initial_id",
   "metadata": {
    "collapsed": true
   },
   "source": [
    "@tool\n",
    "def add_number(inputs: str) :\n",
    "    \"\"\"\n",
    "    Tool: add_numbers\n",
    "    Description: Add numeric values extracted from text input\n",
    "    Input: str (e.g. \"Add numbers 10, 20 and 30\")\n",
    "    Output: dict (e.g. {\"result\": 60})\n",
    "    \"\"\"\n",
    "    numbers = [int(x) for x in inputs.replace(\",\", \"\").split() if x.isdigit()]\n",
    "    result = sum(numbers)\n",
    "    return str(result)"
   ],
   "outputs": [],
   "execution_count": null
  },
  {
   "metadata": {},
   "cell_type": "code",
   "source": [
    "# add_tool = Tool(\n",
    "#     name=\"AddTool\",\n",
    "#     func=add_number,\n",
    "#     description=\"Add a list of numbers and return the result\",\n",
    "# )\n",
    "# print(\"Tool Object:\", add_tool)\n"
   ],
   "id": "ee98a57cbc54ded6",
   "outputs": [],
   "execution_count": null
  },
  {
   "metadata": {},
   "cell_type": "code",
   "source": [
    "test_input = \"What is the sum of 10, 20 and 30\"\n",
    "print(add_number.invoke(test_input))\n",
    "\n",
    "test_input = \"What is the sum of ten, 20 and 30\"\n",
    "print(add_number.invoke(test_input))"
   ],
   "id": "5849034c873f9bf2",
   "outputs": [],
   "execution_count": null
  },
  {
   "metadata": {},
   "cell_type": "code",
   "source": [
    "model = init_chat_model(\"openai:gpt-4.1\", temperature=0)\n",
    "agent = create_react_agent(\n",
    "    tools=[add_number],\n",
    "    model=model,\n",
    ")\n"
   ],
   "id": "ca7feef8f0f6739b",
   "outputs": [],
   "execution_count": null
  },
  {
   "metadata": {},
   "cell_type": "code",
   "source": [
    "result = agent.invoke(\n",
    "    {\"messages\": [{\"role\": \"user\", \"content\": \"What is the sum of 10, 20 and 30\"}]}\n",
    ")\n",
    "for message in result[\"messages\"]:\n",
    "    print(message.content)\n"
   ],
   "id": "f47f117dbbca434b",
   "outputs": [],
   "execution_count": null
  },
  {
   "metadata": {},
   "cell_type": "code",
   "source": [
    "from functools import reduce\n",
    "\n",
    "def multiply_number(inputs: str) :\n",
    "    \"\"\"\n",
    "    Tool: multiply_numbers\n",
    "    Description: Multiply numeric values extracted from text input\n",
    "    Input: str (e.g. \"Multiply numbers 10, 20 and 30\")\n",
    "    Output: dict (e.g. {\"result\": 60})\n",
    "    \"\"\"\n",
    "    numbers = [int(x) for x in inputs.replace(\",\", \"\").split() if x.isdigit()]\n",
    "    if not numbers:\n",
    "        return \"No numbers found in input\"\n",
    "    result = reduce(lambda x, y: x * y, numbers)\n",
    "    return str(result)\n",
    "\n",
    "def divide_number(inputs: str) :\n",
    "    \"\"\"\n",
    "    Tool: divide_numbers\n",
    "    Description: Divide numeric values extracted from text input\n",
    "    Input: str (e.g. \"Divide numbers 10, 20 and 30\")\n",
    "    Output: dict (e.g. {\"result\": 60})\n",
    "    \"\"\"\n",
    "    numbers = [int(x) for x in inputs.replace(\",\", \"\").split() if x.isdigit()]\n",
    "    if not numbers:\n",
    "        return \"No numbers found in input\"\n",
    "    result = reduce(lambda x, y: x / y, numbers)\n",
    "    return str(result)"
   ],
   "id": "471b058f3fd92ebc",
   "outputs": [],
   "execution_count": null
  },
  {
   "metadata": {},
   "cell_type": "code",
   "source": [
    "model = init_chat_model(\"openai:gpt-4.1\", temperature=0)\n",
    "agent = create_react_agent(\n",
    "    tools=[add_number, multiply_number, divide_number],\n",
    "    model=model,\n",
    "    prompt= \"You are a helpful math assistant that can perform addition, multiplication and division. Use the tools to answer the question. If you don't know the answer, just say that you don't know, don't try to make up an answer. Also show your reasoning step by step.\",\n",
    ")\n",
    "result = agent.invoke(\n",
    "    {\"messages\": [{\"role\": \"user\", \"content\": \"What is the sum of 10, 20 and 30 multiplied by 2 divided by 3?\"}]}\n",
    ")\n",
    "for message in result[\"messages\"]:\n",
    "    print(message.content)\n"
   ],
   "id": "529777254c6db6d6",
   "outputs": [],
   "execution_count": null
  },
  {
   "metadata": {},
   "cell_type": "code",
   "source": [
    "from langchain_community.tools.wikipedia.tool import WikipediaQueryRun, WikipediaAPIWrapper\n",
    "from langchain_community.tools.google_finance.tool import GoogleFinanceQueryRun, GoogleFinanceAPIWrapper\n",
    "from langchain_community.tools.golden_query.tool import GoldenQueryRun, GoldenQueryAPIWrapper\n",
    "from langchain_community.tools.openweathermap.tool import OpenWeatherMapQueryRun, OpenWeatherMapAPIWrapper\n",
    "wiki_tool = WikipediaQueryRun(api_wrapper=WikipediaAPIWrapper())\n",
    "google_finance_tool = GoogleFinanceQueryRun(api_wrapper=GoogleFinanceAPIWrapper())\n",
    "golden_query_tool = GoldenQueryRun(api_wrapper=GoldenQueryAPIWrapper())\n",
    "openweather_tool = OpenWeatherMapQueryRun(api_wrapper=OpenWeatherMapAPIWrapper())\n",
    "model = init_chat_model(\"openai:gpt-4.1\", temperature=0)\n",
    "agent = create_react_agent(\n",
    "    tools=[add_number, multiply_number, divide_number, wiki_tool, google_finance_tool, golden_query_tool, openweather_tool],\n",
    "    model=model,\n",
    "    prompt= \"You are a helpful assistant that can perform various tasks. Use the tools to answer the question. If you don't know the answer, just say that you don't know, don't try to make up an answer. Also show your reasoning step by step, and cite any sources your used\"\n",
    ")"
   ],
   "id": "d95ef4c4cdcfeb98",
   "outputs": [],
   "execution_count": null
  },
  {
   "metadata": {},
   "cell_type": "code",
   "source": [
    "result = agent.invoke(\n",
    "    {\"messages\": [{\"role\": \"user\", \"content\": \"What is Bell's inequality\"},\n",
    "                  {\"role\": \"user\", \"content\": \"What is the current price of SPY ETF\"},\n",
    "                  {\"role\": \"user\", \"content\": \"What is the weather in Seattle tomorrow\"}]}\n",
    ")\n",
    "for message in result[\"messages\"]:\n",
    "    print(message.content)"
   ],
   "id": "46ec63bc0bfef039",
   "outputs": [],
   "execution_count": null
  },
  {
   "metadata": {
    "ExecuteTime": {
     "end_time": "2025-08-04T00:25:04.145619Z",
     "start_time": "2025-08-04T00:24:50.066956Z"
    }
   },
   "cell_type": "code",
   "source": [
    "from langchain_community.tools.google_finance import GoogleFinanceQueryRun\n",
    "from langchain_community.utilities.google_finance import GoogleFinanceAPIWrapper\n",
    "\n",
    "tool = GoogleFinanceQueryRun(api_wrapper=GoogleFinanceAPIWrapper())"
   ],
   "id": "b0d51ea25dbc3ab2",
   "outputs": [],
   "execution_count": 1
  },
  {
   "metadata": {
    "ExecuteTime": {
     "end_time": "2025-08-04T00:25:05.047081Z",
     "start_time": "2025-08-04T00:25:04.224301Z"
    }
   },
   "cell_type": "code",
   "source": "tool.run(\"Google\")",
   "id": "c5086d43e0e83020",
   "outputs": [
    {
     "data": {
      "text/plain": [
       "'\\nQuery: Google\\nNo summary information\\n'"
      ]
     },
     "execution_count": 2,
     "metadata": {},
     "output_type": "execute_result"
    }
   ],
   "execution_count": 2
  },
  {
   "metadata": {
    "ExecuteTime": {
     "end_time": "2025-08-04T00:26:29.542428Z",
     "start_time": "2025-08-04T00:26:10.005524Z"
    }
   },
   "cell_type": "code",
   "source": [
    "from langchain.chat_models import init_chat_model\n",
    "\n",
    "llm = init_chat_model(\"gpt-4o-mini\", model_provider=\"openai\")\n",
    "from langchain_community.agent_toolkits.load_tools import load_tools\n",
    "\n",
    "tools = load_tools([\"google-scholar\", \"google-finance\"], llm=llm)\n",
    "from langgraph.prebuilt import create_react_agent\n",
    "\n",
    "agent = create_react_agent(llm, tools)\n",
    "\n",
    "events = agent.stream(\n",
    "    {\"messages\": [(\"user\", \"What is Google's stock?\")]},\n",
    "    stream_mode=\"values\",\n",
    ")\n",
    "for event in events:\n",
    "    event[\"messages\"][-1].pretty_print()"
   ],
   "id": "2e8948ce66602688",
   "outputs": [
    {
     "name": "stdout",
     "output_type": "stream",
     "text": [
      "================================\u001B[1m Human Message \u001B[0m=================================\n",
      "\n",
      "What is Google's stock?\n",
      "==================================\u001B[1m Ai Message \u001B[0m==================================\n",
      "Tool Calls:\n",
      "  google_finance (call_0unChfv8sQSbQOivTDN5KCLo)\n",
      " Call ID: call_0unChfv8sQSbQOivTDN5KCLo\n",
      "  Args:\n",
      "    query: Alphabet Inc.\n",
      "=================================\u001B[1m Tool Message \u001B[0m=================================\n",
      "Name: google_finance\n",
      "\n",
      "\n",
      "Query: Alphabet Inc.\n",
      "No summary information\n",
      "\n",
      "==================================\u001B[1m Ai Message \u001B[0m==================================\n",
      "\n",
      "It seems that I wasn't able to retrieve specific information about Google's stock (Alphabet Inc.) at this time. You can check stock prices and other financial details on financial news websites or stock market platforms for the latest information.\n"
     ]
    }
   ],
   "execution_count": 3
  },
  {
   "metadata": {},
   "cell_type": "code",
   "outputs": [],
   "execution_count": null,
   "source": "",
   "id": "84847bbe9627cf03"
  }
 ],
 "metadata": {
  "kernelspec": {
   "display_name": "Python 3",
   "language": "python",
   "name": "python3"
  },
  "language_info": {
   "codemirror_mode": {
    "name": "ipython",
    "version": 2
   },
   "file_extension": ".py",
   "mimetype": "text/x-python",
   "name": "python",
   "nbconvert_exporter": "python",
   "pygments_lexer": "ipython2",
   "version": "2.7.6"
  }
 },
 "nbformat": 4,
 "nbformat_minor": 5
}
