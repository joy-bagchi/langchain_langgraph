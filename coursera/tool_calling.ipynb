{
 "cells": [
  {
   "metadata": {},
   "cell_type": "markdown",
   "source": "## Call Tools to provide more accurate responses",
   "id": "259d1cd102b87e15"
  },
  {
   "metadata": {
    "ExecuteTime": {
     "end_time": "2025-08-03T23:38:04.335724Z",
     "start_time": "2025-08-03T23:37:55.850032Z"
    }
   },
   "cell_type": "code",
   "source": [
    "from langchain.agents import Tool\n",
    "from langchain.agents import tool\n",
    "from langchain.chat_models import init_chat_model\n",
    "from langgraph.prebuilt import create_react_agent"
   ],
   "id": "9bf6a0a6bfd816d1",
   "outputs": [],
   "execution_count": 1
  },
  {
   "cell_type": "code",
   "id": "initial_id",
   "metadata": {
    "collapsed": true,
    "ExecuteTime": {
     "end_time": "2025-08-03T23:38:04.389160Z",
     "start_time": "2025-08-03T23:38:04.370311Z"
    }
   },
   "source": [
    "@tool\n",
    "def add_number(inputs: str) :\n",
    "    \"\"\"\n",
    "    Tool: add_numbers\n",
    "    Description: Add numeric values extracted from text input\n",
    "    Input: str (e.g. \"Add numbers 10, 20 and 30\")\n",
    "    Output: dict (e.g. {\"result\": 60})\n",
    "    \"\"\"\n",
    "    numbers = [int(x) for x in inputs.replace(\",\", \"\").split() if x.isdigit()]\n",
    "    result = sum(numbers)\n",
    "    return str(result)"
   ],
   "outputs": [],
   "execution_count": 2
  },
  {
   "metadata": {},
   "cell_type": "code",
   "source": [
    "# add_tool = Tool(\n",
    "#     name=\"AddTool\",\n",
    "#     func=add_number,\n",
    "#     description=\"Add a list of numbers and return the result\",\n",
    "# )\n",
    "# print(\"Tool Object:\", add_tool)\n"
   ],
   "id": "ee98a57cbc54ded6",
   "outputs": [],
   "execution_count": null
  },
  {
   "metadata": {
    "ExecuteTime": {
     "end_time": "2025-08-03T23:38:12.823792Z",
     "start_time": "2025-08-03T23:38:12.693453Z"
    }
   },
   "cell_type": "code",
   "source": [
    "test_input = \"What is the sum of 10, 20 and 30\"\n",
    "print(add_number.invoke(test_input))\n",
    "\n",
    "test_input = \"What is the sum of ten, 20 and 30\"\n",
    "print(add_number.invoke(test_input))"
   ],
   "id": "5849034c873f9bf2",
   "outputs": [
    {
     "name": "stdout",
     "output_type": "stream",
     "text": [
      "60\n",
      "50\n"
     ]
    }
   ],
   "execution_count": 3
  },
  {
   "metadata": {
    "ExecuteTime": {
     "end_time": "2025-08-03T23:38:22.536514Z",
     "start_time": "2025-08-03T23:38:17.246501Z"
    }
   },
   "cell_type": "code",
   "source": [
    "model = init_chat_model(\"openai:gpt-4.1\", temperature=0)\n",
    "agent = create_react_agent(\n",
    "    tools=[add_number],\n",
    "    model=model,\n",
    ")\n"
   ],
   "id": "ca7feef8f0f6739b",
   "outputs": [],
   "execution_count": 4
  },
  {
   "metadata": {
    "ExecuteTime": {
     "end_time": "2025-08-03T23:38:28.042395Z",
     "start_time": "2025-08-03T23:38:24.511143Z"
    }
   },
   "cell_type": "code",
   "source": [
    "result = agent.invoke(\n",
    "    {\"messages\": [{\"role\": \"user\", \"content\": \"What is the sum of 10, 20 and 30\"}]}\n",
    ")\n",
    "for message in result[\"messages\"]:\n",
    "    print(message.content)\n"
   ],
   "id": "f47f117dbbca434b",
   "outputs": [
    {
     "name": "stdout",
     "output_type": "stream",
     "text": [
      "What is the sum of 10, 20 and 30\n",
      "\n",
      "60\n",
      "The sum of 10, 20, and 30 is 60.\n"
     ]
    }
   ],
   "execution_count": 5
  },
  {
   "metadata": {},
   "cell_type": "code",
   "source": [
    "from functools import reduce\n",
    "\n",
    "\n",
    "def multiply_number(inputs: str) :\n",
    "    \"\"\"\n",
    "    Tool: multiply_numbers\n",
    "    Description: Multiply numeric values extracted from text input\n",
    "    Input: str (e.g. \"Multiply numbers 10, 20 and 30\")\n",
    "    Output: dict (e.g. {\"result\": 60})\n",
    "    \"\"\"\n",
    "    numbers = [int(x) for x in inputs.replace(\",\", \"\").split() if x.isdigit()]\n",
    "    if not numbers:\n",
    "        return \"No numbers found in input\"\n",
    "    result = reduce(lambda x, y: x * y, numbers)\n",
    "    return str(result)\n",
    "\n",
    "def divide_number(inputs: str) :\n",
    "    \"\"\"\n",
    "    Tool: divide_numbers\n",
    "    Description: Divide numeric values extracted from text input\n",
    "    Input: str (e.g. \"Divide numbers 10, 20 and 30\")\n",
    "    Output: dict (e.g. {\"result\": 60})\n",
    "    \"\"\"\n",
    "    numbers = [int(x) for x in inputs.replace(\",\", \"\").split() if x.isdigit()]\n",
    "    if not numbers:\n",
    "        return \"No numbers found in input\"\n",
    "    result = reduce(lambda x, y: x / y, numbers)\n",
    "    return str(result)"
   ],
   "id": "471b058f3fd92ebc",
   "outputs": [],
   "execution_count": 6
  },
  {
   "metadata": {
    "ExecuteTime": {
     "end_time": "2025-08-03T23:38:48.676404Z",
     "start_time": "2025-08-03T23:38:36.162175Z"
    }
   },
   "cell_type": "code",
   "source": [
    "model = init_chat_model(\"openai:gpt-4.1\", temperature=0)\n",
    "agent = create_react_agent(\n",
    "    tools=[add_number, multiply_number, divide_number],\n",
    "    model=model,\n",
    "    prompt= \"You are a helpful math assistant that can perform addition, multiplication and division. Use the tools to answer the question. If you don't know the answer, just say that you don't know, don't try to make up an answer. Also show your reasoning step by step.\",\n",
    ")\n",
    "result = agent.invoke(\n",
    "    {\"messages\": [{\"role\": \"user\", \"content\": \"What is the sum of 10, 20 and 30 multiplied by 2 divided by 3?\"}]}\n",
    ")\n",
    "for message in result[\"messages\"]:\n",
    "    print(message.content)\n"
   ],
   "id": "529777254c6db6d6",
   "outputs": [
    {
     "name": "stdout",
     "output_type": "stream",
     "text": [
      "What is the sum of 10, 20 and 30 multiplied by 2 divided by 3?\n",
      "\n",
      "60\n",
      "\n",
      "120\n",
      "\n",
      "40.0\n",
      "First, add 10, 20, and 30 to get 60. Then, multiply 60 by 2 to get 120. Finally, divide 120 by 3 to get 40.\n",
      "\n",
      "So, the answer is 40.\n"
     ]
    }
   ],
   "execution_count": 7
  },
  {
   "metadata": {
    "ExecuteTime": {
     "end_time": "2025-08-03T23:38:54.043524Z",
     "start_time": "2025-08-03T23:38:53.715331Z"
    }
   },
   "cell_type": "code",
   "source": [
    "from langchain_community.tools.wikipedia.tool import WikipediaQueryRun, WikipediaAPIWrapper\n",
    "from langchain_community.tools.google_finance.tool import GoogleFinanceQueryRun, GoogleFinanceAPIWrapper\n",
    "from langchain_community.tools.golden_query.tool import GoldenQueryRun, GoldenQueryAPIWrapper\n",
    "wiki_tool = WikipediaQueryRun(api_wrapper=WikipediaAPIWrapper())\n",
    "google_finance_tool = GoogleFinanceQueryRun(api_wrapper=GoogleFinanceAPIWrapper())\n",
    "golden_query_tool = GoldenQueryRun(api_wrapper=GoldenQueryAPIWrapper())\n",
    "model = init_chat_model(\"openai:gpt-4.1\", temperature=0)\n",
    "agent = create_react_agent(\n",
    "    tools=[add_number, multiply_number, divide_number, wiki_tool, google_finance_tool, golden_query_tool],\n",
    "    model=model,\n",
    "    prompt= \"You are a helpful assistant that can perform various tasks. Use the tools to answer the question. If you don't know the answer, just say that you don't know, don't try to make up an answer. Also show your reasoning step by step, and cite any sources your used\"\n",
    ")"
   ],
   "id": "d95ef4c4cdcfeb98",
   "outputs": [],
   "execution_count": 8
  },
  {
   "metadata": {
    "ExecuteTime": {
     "end_time": "2025-08-03T23:39:36.868281Z",
     "start_time": "2025-08-03T23:39:29.733823Z"
    }
   },
   "cell_type": "code",
   "source": [
    "result = agent.invoke(\n",
    "    {\"messages\": [{\"role\": \"user\", \"content\": \"What is Bell's inequality\"}]}\n",
    ")\n",
    "for message in result[\"messages\"]:\n",
    "    print(message.content)"
   ],
   "id": "46ec63bc0bfef039",
   "outputs": [
    {
     "name": "stdout",
     "output_type": "stream",
     "text": [
      "What is Bell's inequality\n",
      "\n",
      "Page: Bell's theorem\n",
      "Summary: Bell's theorem is a term encompassing a number of closely related results in physics, all of which determine that quantum mechanics is incompatible with local hidden-variable theories, given some basic assumptions about the nature of measurement. The first such result was introduced by John Stewart Bell in 1964, building upon the Einstein–Podolsky–Rosen paradox, which had called attention to the phenomenon of quantum entanglement.\n",
      "In the context of Bell's theorem, \"local\" refers to the principle of locality, the idea that a particle can only be influenced by its immediate surroundings, and that interactions mediated by physical fields cannot propagate faster than the speed of light. \"Hidden variables\" are supposed properties of quantum particles that are not included in quantum theory but nevertheless affect the outcome of experiments. In the words of Bell, \"If [a hidden-variable theory] is local it will not agree with quantum mechanics, and if it agrees with quantum mechanics it will not be local.\"\n",
      "In his original paper, Bell deduced that if measurements are performed independently on the two separated particles of an entangled pair, then the assumption that the outcomes depend upon hidden variables within each half implies a mathematical constraint on how the outcomes on the two measurements are correlated. Such a constraint would later be named a Bell inequality. Bell then showed that quantum physics predicts correlations that violate this inequality. Multiple variations on Bell's theorem were put forward in the years following his original paper, using different assumptions and obtaining different Bell (or \"Bell-type\") inequalities.\n",
      "The first rudimentary experiment designed to test Bell's theorem was performed in 1972 by John Clauser and Stuart Freedman. More advanced experiments, known collectively as Bell tests, have been performed many times since. Often, these experiments have had the goal of \"closing loopholes\", that is, ameliorating problems of experimental design or set-up that could in principle affect the validity of the findings of earlier Bell tests. Bell tests have consistently found that physical systems obey quantum mechanics and violate Bell inequalities; which is to say that the results of these experiments are incompatible with local hidden-variable theories. \n",
      "The exact nature of the assumptions required to prove a Bell-type constraint on correlations has been debated by physicists and by philosophers. While the significance of Bell's theorem is not in doubt, different interpretations of quantum mechanics disagree about what exactly it implies.\n",
      "\n",
      "Page: Bell test\n",
      "Summary: A Bell test, also known as Bell inequality test or Bell experiment, is a real-world physics experiment designed to test the theory of quantum mechanics in relation to Albert Einstein's concept of local realism. Named for John Stewart Bell, the experiments test whether or not the real world satisfies local realism, which requires the presence of some additional local variables (called \"hidden\" because they are not a feature of quantum theory) to explain the behavior of particles like photons and electrons. The test empirically evaluates the implications of Bell's theorem. As of 2015, all Bell tests have found that the hypothesis of local hidden variables is inconsistent with the way that physical systems behave.\n",
      "Many types of Bell tests have been performed in physics laboratories, often with the goal of ameliorating problems of experimental design or set-up that could in principle affect the validity of the findings of earlier Bell tests. This is known as \"closing loopholes in Bell tests\".\n",
      "Bell inequality violations are also used in some quantum cryptography protocols, whereby a spy's presence is detected when Bell's inequalities cease to be violated.\n",
      "\n",
      "Page: CHSH inequality\n",
      "Summary: In physics, the Clauser–Horne–Shimony–Holt (CHSH) inequality can be used in the proof of Bell's theorem, which states that certain \n",
      "Bell's inequality is a mathematical constraint that arises from the assumptions of local hidden-variable theories—these are theories that try to explain quantum phenomena by assuming that particles have pre-existing properties (hidden variables) and that no influence can travel faster than the speed of light (locality).\n",
      "\n",
      "John Stewart Bell introduced this concept in 1964. He showed that if local hidden variables exist, then the results of measurements on entangled quantum particles must satisfy certain statistical inequalities—these are called Bell inequalities.\n",
      "\n",
      "However, quantum mechanics predicts, and experiments have confirmed, that entangled particles can show correlations that violate Bell's inequality. This means that the predictions of quantum mechanics cannot be explained by any local hidden-variable theory. In other words, the results suggest that either locality or realism (or both) must be abandoned, which has profound implications for our understanding of the nature of reality.\n",
      "\n",
      "In summary, Bell's inequality is a testable prediction that distinguishes between quantum mechanics and local hidden-variable theories, and experiments have consistently shown that quantum mechanics is correct and local hidden-variable theories are not. (Source: Wikipedia - Bell's theorem)\n"
     ]
    }
   ],
   "execution_count": 9
  },
  {
   "metadata": {},
   "cell_type": "code",
   "outputs": [],
   "execution_count": null,
   "source": "",
   "id": "b0d51ea25dbc3ab2"
  }
 ],
 "metadata": {
  "kernelspec": {
   "display_name": "Python 3",
   "language": "python",
   "name": "python3"
  },
  "language_info": {
   "codemirror_mode": {
    "name": "ipython",
    "version": 2
   },
   "file_extension": ".py",
   "mimetype": "text/x-python",
   "name": "python",
   "nbconvert_exporter": "python",
   "pygments_lexer": "ipython2",
   "version": "2.7.6"
  }
 },
 "nbformat": 4,
 "nbformat_minor": 5
}
