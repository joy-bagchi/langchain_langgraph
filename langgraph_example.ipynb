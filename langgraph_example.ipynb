{
 "cells": [
  {
   "metadata": {
    "ExecuteTime": {
     "end_time": "2025-07-31T05:49:00.813650Z",
     "start_time": "2025-07-31T05:48:36.905884Z"
    }
   },
   "cell_type": "code",
   "source": [
    "%%capture --no-stderr\n",
    "%pip install -U --quiet langgraph \"langchain[openai]\" langchain-community langchain-text-splitters"
   ],
   "id": "8c6073c92718bc14",
   "outputs": [
    {
     "name": "stderr",
     "output_type": "stream",
     "text": [
      "error: uninstall-no-record-file\n",
      "\n",
      "× Cannot uninstall langchain None\n",
      "╰─> The package's contents are unknown: no RECORD file was found for langchain.\n",
      "\n",
      "hint: You might be able to recover from this via: pip install --force-reinstall --no-deps langchain==0.3.26\n"
     ]
    }
   ],
   "execution_count": 2
  },
  {
   "metadata": {},
   "cell_type": "code",
   "outputs": [],
   "execution_count": null,
   "source": "",
   "id": "8cf5d404ffc65330"
  }
 ],
 "metadata": {
  "kernelspec": {
   "display_name": "Python 3",
   "language": "python",
   "name": "python3"
  },
  "language_info": {
   "codemirror_mode": {
    "name": "ipython",
    "version": 2
   },
   "file_extension": ".py",
   "mimetype": "text/x-python",
   "name": "python",
   "nbconvert_exporter": "python",
   "pygments_lexer": "ipython2",
   "version": "2.7.6"
  }
 },
 "nbformat": 4,
 "nbformat_minor": 5
}
